{
  "nbformat": 4,
  "nbformat_minor": 0,
  "metadata": {
    "colab": {
      "provenance": [],
      "toc_visible": true,
      "authorship_tag": "ABX9TyMSeMwK1p4yULbYhPTZwArB",
      "include_colab_link": true
    },
    "kernelspec": {
      "name": "python3",
      "display_name": "Python 3"
    },
    "language_info": {
      "name": "python"
    }
  },
  "cells": [
    {
      "cell_type": "markdown",
      "metadata": {
        "id": "view-in-github",
        "colab_type": "text"
      },
      "source": [
        "<a href=\"https://colab.research.google.com/github/Vane0620/Demo_Tarea_2_1er_50/blob/Ejercicio-3-Construcci%C3%B3n-de-Ventanas/Tarea___2__del__1er___50.ipynb\" target=\"_parent\"><img src=\"https://colab.research.google.com/assets/colab-badge.svg\" alt=\"Open In Colab\"/></a>"
      ]
    },
    {
      "cell_type": "markdown",
      "source": [
        "# **Ejercicios para demostrar la Tarea 2 del 1er 50%**\n",
        "\n",
        "INTEGRANTES:\n",
        "\n",
        "\n",
        "1.   Roldan González, Kaira\n",
        "2.   Cuello Oviedo, Keiner José\n",
        "3.   Peña Contreras, Miguel David\n",
        "4.    Vellojin Espeleta, Annie\n",
        "5.   Pérez Gómez, Vanessa\n",
        "6.   Hernández Badel, Carlos David\n",
        "7.   Ramos Arias, Breiner Mauricio\n",
        "\n"
      ],
      "metadata": {
        "id": "Lp-bTI7scaBk"
      }
    },
    {
      "cell_type": "markdown",
      "source": [
        "## Ejercicio 3 Construcción de Ventanas\n",
        "\n",
        "[UN SIMPLE PROBLEMA: CONSTRUCCION DE VENTANAS ](https://docs.google.com/document/d/15DZ-QVMJnQAoL38Ln7DRBa-as9Z4M5R0/edit?usp=sharing&ouid=115090580121117021820&rtpof=true&sd=true)\n",
        "\n",
        "## **UN SIMPLE PROBLEMA: CONSTRUCCION DE VENTANAS**\n",
        "\n",
        "Rob Miles CSharp Yellow Book 2012 © Rob Miles 2011 Department of Computer Science, The University of Hull.\n",
        "\n",
        "## **PLANTEAMIENTO DEL PROBLEMA**.\n",
        "\n",
        " Se requiere desarrollar un aplicativo que calcule los costos de materiales de un fabricante de ventanas. El fabricante desea ingresar las dimensiones de la ventana a fabricar, en metros, y a partir de allí el aplicativo deberá generar una salida de los costos para fabricar la ventana en términos de la cantidad de madera y vidrio necesario. El fabricante compra la madera en pies de longitud (1 m=3.25”). El programa deberá dar la longitud de la madera necesaria en pies de longitud.\n",
        "\n",
        "## **PROBANDO EL PROGRAMA**.\n",
        "\n",
        " Si deseo una ventana de 2 metros de alto y 1 metro de ancho, el programa debería decirme que necesito 4 metros cuadrados de vidrio y 19.5 pies de madera.\n",
        "\n",
        "## **PONIENDO MAS DETALLES**\n",
        "\n",
        "El fabricante desea que el programa controle las siguientes restricciones:\n",
        "1. El área del vidrio requerido para la ventana debe ser en metros cuadrados.\n",
        "2. Las ventanas son de doble vidrio, de modo que cada ventana requiere dos láminas.\n",
        "3. La longitud de la madera requerida para el marco debe ser dada en pies.\n"
      ],
      "metadata": {
        "id": "EI4FrVBKJfEs"
      }
    },
    {
      "cell_type": "code",
      "source": [
        "# prompt: Escribe codigo de Python que resuelva el ejercicio \"UN SIMPLE PROBLEMA: CONSTRUCCION DE VENTANAS\", por favor no utilices funciones definidas por el usuario\n",
        "\n",
        "# Entrada de dimensiones de la ventana\n",
        "alto = float(input(\"Ingrese el alto de la ventana en metros: \"))\n",
        "ancho = float(input(\"Ingrese el ancho de la ventana en metros: \"))\n",
        "\n",
        "# Calcular el área del vidrio\n",
        "area_vidrio = alto * ancho * 2  # Doble vidrio\n",
        "\n",
        "# Calcular la longitud de la madera\n",
        "longitud_madera_metros = 2 * (alto + ancho)\n",
        "longitud_madera_pies = longitud_madera_metros * 3.25\n",
        "\n",
        "# Mostrar los resultados\n",
        "print(\"Área de vidrio requerida:\", area_vidrio, \"metros cuadrados\")\n",
        "print(\"Longitud de madera requerida:\", longitud_madera_pies, \"pies\")\n"
      ],
      "metadata": {
        "id": "olhGJ7LE1LWl",
        "colab": {
          "base_uri": "https://localhost:8080/"
        },
        "outputId": "571f13eb-60fb-49c7-a2aa-817e44bcfaff"
      },
      "execution_count": 1,
      "outputs": [
        {
          "output_type": "stream",
          "name": "stdout",
          "text": [
            "Ingrese el alto de la ventana en metros: 2\n",
            "Ingrese el ancho de la ventana en metros: 1\n",
            "Área de vidrio requerida: 4.0 metros cuadrados\n",
            "Longitud de madera requerida: 19.5 pies\n"
          ]
        }
      ]
    },
    {
      "cell_type": "code",
      "source": [
        "# prompt: Escribe el código anterior utilizando funciones predefinidas por el usuario\n",
        "\n",
        "def calcular_area_vidrio(alto, ancho):\n",
        "  \"\"\"Calcula el área del vidrio necesaria para la ventana.\"\"\"\n",
        "  return alto * ancho * 2  # Doble vidrio\n",
        "\n",
        "\n",
        "def calcular_longitud_madera(alto, ancho):\n",
        "  \"\"\"Calcula la longitud de la madera necesaria para el marco de la ventana.\"\"\"\n",
        "  longitud_madera_metros = 2 * (alto + ancho)\n",
        "  longitud_madera_pies = longitud_madera_metros * 3.25\n",
        "  return longitud_madera_pies\n",
        "\n",
        "\n",
        "# Entrada de dimensiones de la ventana\n",
        "alto = float(input(\"Ingrese el alto de la ventana en metros: \"))\n",
        "ancho = float(input(\"Ingrese el ancho de la ventana en metros: \"))\n",
        "\n",
        "# Calcular el área del vidrio y la longitud de la madera usando las funciones\n",
        "area_vidrio = calcular_area_vidrio(alto, ancho)\n",
        "longitud_madera_pies = calcular_longitud_madera(alto, ancho)\n",
        "\n",
        "# Mostrar los resultados\n",
        "print(\"Área de vidrio requerida:\", area_vidrio, \"metros cuadrados\")\n",
        "print(\"Longitud de madera requerida:\", longitud_madera_pies, \"pies\")\n"
      ],
      "metadata": {
        "colab": {
          "base_uri": "https://localhost:8080/"
        },
        "id": "XJYYJ_45eUkU",
        "outputId": "4367b2c3-dc27-49dc-fb19-db1d3e707e2f"
      },
      "execution_count": 2,
      "outputs": [
        {
          "output_type": "stream",
          "name": "stdout",
          "text": [
            "Ingrese el alto de la ventana en metros: 2\n",
            "Ingrese el ancho de la ventana en metros: 1\n",
            "Área de vidrio requerida: 4.0 metros cuadrados\n",
            "Longitud de madera requerida: 19.5 pies\n"
          ]
        }
      ]
    },
    {
      "cell_type": "markdown",
      "source": [
        "## Ejercicio 4 Construcción de Secadores Solares\n",
        "\n",
        "[EFICIENCIAS_SECADOR_SOLAR](https://docs.google.com/spreadsheets/d/1HOwH81S8jgQYQj9c3P-vpj0_gpliJlbo/edit?usp=sharing&ouid=115090580121117021820&rtpof=true&sd=true)"
      ],
      "metadata": {
        "id": "CFl1j5SLMXcO"
      }
    },
    {
      "cell_type": "code",
      "source": [],
      "metadata": {
        "id": "g_J7YAV11M3q"
      },
      "execution_count": null,
      "outputs": []
    }
  ]
}